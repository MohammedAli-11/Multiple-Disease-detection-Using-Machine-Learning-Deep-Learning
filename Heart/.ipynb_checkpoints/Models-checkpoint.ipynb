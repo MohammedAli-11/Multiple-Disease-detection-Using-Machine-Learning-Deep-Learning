{
 "cells": [
  {
   "cell_type": "code",
   "execution_count": 1,
   "id": "8bf63f24",
   "metadata": {},
   "outputs": [],
   "source": [
    "import pandas as pd\n",
    "import numpy as np\n",
    "from sklearn.preprocessing import StandardScaler\n",
    "# data splitting\n",
    "from sklearn.model_selection import train_test_split\n",
    "# data modeling\n",
    "from sklearn.metrics import confusion_matrix,accuracy_score,roc_curve,classification_report\n",
    "from sklearn.linear_model import LogisticRegression\n",
    "from sklearn.naive_bayes import GaussianNB\n",
    "from sklearn.ensemble import RandomForestClassifier\n",
    "from sklearn.tree import DecisionTreeClassifier\n",
    "from sklearn.neighbors import KNeighborsClassifier\n",
    "from sklearn.naive_bayes import GaussianNB\n",
    "from sklearn.svm import SVC\n",
    "from xgboost import XGBClassifier"
   ]
  },
  {
   "cell_type": "code",
   "execution_count": 2,
   "id": "8430dcfd",
   "metadata": {},
   "outputs": [],
   "source": [
    "df = pd.read_csv(\"D:/NSU COURSES/NSU SEMESTER 14/CSE445/Project/Heart/hearteda.csv\")"
   ]
  },
  {
   "cell_type": "code",
   "execution_count": 3,
   "id": "26694bed",
   "metadata": {},
   "outputs": [
    {
     "data": {
      "text/plain": [
       "(1025, 13)"
      ]
     },
     "execution_count": 3,
     "metadata": {},
     "output_type": "execute_result"
    }
   ],
   "source": [
    "df.shape"
   ]
  },
  {
   "cell_type": "code",
   "execution_count": 4,
   "id": "ec565fe7",
   "metadata": {},
   "outputs": [],
   "source": [
    "y = df[\"target\"]\n",
    "X = df.drop('target',axis=1)\n",
    "X_train, X_test, y_train, y_test = train_test_split(X, y, test_size=0.20, random_state = 0)\n",
    "scaler = StandardScaler()\n",
    "X_train = scaler.fit_transform(X_train)\n",
    "X_test = scaler.transform(X_test)"
   ]
  },
  {
   "cell_type": "markdown",
   "id": "dca6b147",
   "metadata": {},
   "source": [
    "<h2> ML Models Used:</h2>\n",
    "   <h4> 1. Logistic Regression </h4>\n",
    "   <h4> 2. Naive Bayes</h4>\n",
    "  <h4>  3. Random Forest Classifier</h4>\n",
    "   <h4> 4. K-Nearest Neighbour</h4>\n",
    "   <h4> 5. Decision Tree</h4>\n",
    "  <h4>  6. Support Vector Machine</h4>\n",
    "  <h4>  7. Extreme Gradient Boost </h4>"
   ]
  },
  {
   "cell_type": "markdown",
   "id": "191971a9",
   "metadata": {},
   "source": [
    " "
   ]
  },
  {
   "cell_type": "markdown",
   "id": "dc3cffa0",
   "metadata": {},
   "source": [
    " \n",
    " "
   ]
  },
  {
   "cell_type": "markdown",
   "id": "bd762aa7",
   "metadata": {},
   "source": [
    "<h2> 1. Logistic Regression"
   ]
  },
  {
   "cell_type": "code",
   "execution_count": 5,
   "id": "59aa71e2",
   "metadata": {},
   "outputs": [
    {
     "name": "stdout",
     "output_type": "stream",
     "text": [
      "Confusion Matrix\n",
      "[[ 77  21]\n",
      " [  7 100]]\n",
      "\n",
      "\n",
      "              precision    recall  f1-score   support\n",
      "\n",
      "           0       0.92      0.79      0.85        98\n",
      "           1       0.83      0.93      0.88       107\n",
      "\n",
      "    accuracy                           0.86       205\n",
      "   macro avg       0.87      0.86      0.86       205\n",
      "weighted avg       0.87      0.86      0.86       205\n",
      "\n"
     ]
    }
   ],
   "source": [
    "m1 = 'Logistic Regression'\n",
    "lr = LogisticRegression()\n",
    "model = lr.fit(X_train, y_train)\n",
    "lr_predict = lr.predict(X_test)\n",
    "lr_conf_matrix = confusion_matrix(y_test, lr_predict)\n",
    "lr_acc_score = accuracy_score(y_test, lr_predict)\n",
    "print(\"Confusion Matrix\")\n",
    "print(lr_conf_matrix)\n",
    "print(\"\\n\")\n",
    "print(classification_report(y_test,lr_predict))"
   ]
  },
  {
   "cell_type": "code",
   "execution_count": 6,
   "id": "b0151de4",
   "metadata": {},
   "outputs": [
    {
     "name": "stdout",
     "output_type": "stream",
     "text": [
      "Logistic Regression Accuracy: 86.34146341463415 \n",
      "\n"
     ]
    }
   ],
   "source": [
    "print(\"Logistic Regression Accuracy:\",lr_acc_score*100,'\\n')"
   ]
  },
  {
   "cell_type": "markdown",
   "id": "c4f23bf2",
   "metadata": {},
   "source": [
    "<h2> 2. Naive Bayes"
   ]
  },
  {
   "cell_type": "code",
   "execution_count": 7,
   "id": "2667c5c8",
   "metadata": {},
   "outputs": [
    {
     "name": "stdout",
     "output_type": "stream",
     "text": [
      "confussion matrix\n",
      "[[79 19]\n",
      " [11 96]]\n",
      "\n",
      "\n",
      "              precision    recall  f1-score   support\n",
      "\n",
      "           0       0.88      0.81      0.84        98\n",
      "           1       0.83      0.90      0.86       107\n",
      "\n",
      "    accuracy                           0.85       205\n",
      "   macro avg       0.86      0.85      0.85       205\n",
      "weighted avg       0.86      0.85      0.85       205\n",
      "\n"
     ]
    }
   ],
   "source": [
    "m2 = 'Naive Bayes'\n",
    "nb = GaussianNB()\n",
    "nb.fit(X_train,y_train)\n",
    "nbpred = nb.predict(X_test)\n",
    "nb_conf_matrix = confusion_matrix(y_test, nbpred)\n",
    "nb_acc_score = accuracy_score(y_test, nbpred)\n",
    "print(\"confussion matrix\")\n",
    "print(nb_conf_matrix)\n",
    "print(\"\\n\")\n",
    "\n",
    "print(classification_report(y_test,nbpred))"
   ]
  },
  {
   "cell_type": "code",
   "execution_count": 8,
   "id": "2ab1c221",
   "metadata": {},
   "outputs": [
    {
     "name": "stdout",
     "output_type": "stream",
     "text": [
      "Naive Bayes Accuracy : 85.36585365853658 \n",
      "\n"
     ]
    }
   ],
   "source": [
    "print(\"Naive Bayes Accuracy :\",nb_acc_score*100,'\\n')"
   ]
  },
  {
   "cell_type": "markdown",
   "id": "f50f6b8a",
   "metadata": {},
   "source": [
    "<h2> 3. Random Forest Classfier"
   ]
  },
  {
   "cell_type": "code",
   "execution_count": 9,
   "id": "7c5f9bf0",
   "metadata": {},
   "outputs": [
    {
     "name": "stdout",
     "output_type": "stream",
     "text": [
      "confussion matrix\n",
      "[[ 88  10]\n",
      " [  2 105]]\n",
      "\n",
      "\n",
      "              precision    recall  f1-score   support\n",
      "\n",
      "           0       0.98      0.90      0.94        98\n",
      "           1       0.91      0.98      0.95       107\n",
      "\n",
      "    accuracy                           0.94       205\n",
      "   macro avg       0.95      0.94      0.94       205\n",
      "weighted avg       0.94      0.94      0.94       205\n",
      "\n"
     ]
    }
   ],
   "source": [
    "m3 = 'Random Forest Classfier'\n",
    "rf = RandomForestClassifier(n_estimators=20, random_state=2,max_depth=5)\n",
    "rf.fit(X_train,y_train)\n",
    "rf_predicted = rf.predict(X_test)\n",
    "rf_conf_matrix = confusion_matrix(y_test, rf_predicted)\n",
    "rf_acc_score = accuracy_score(y_test, rf_predicted)\n",
    "print(\"confussion matrix\")\n",
    "print(rf_conf_matrix)\n",
    "print(\"\\n\")\n",
    "\n",
    "print(classification_report(y_test,rf_predicted))"
   ]
  },
  {
   "cell_type": "code",
   "execution_count": 10,
   "id": "8e94b70d",
   "metadata": {},
   "outputs": [
    {
     "name": "stdout",
     "output_type": "stream",
     "text": [
      "Random Forest Accuracy: 94.14634146341463 \n",
      "\n"
     ]
    }
   ],
   "source": [
    "print(\"Random Forest Accuracy:\",rf_acc_score*100,'\\n')"
   ]
  },
  {
   "cell_type": "markdown",
   "id": "671267da",
   "metadata": {},
   "source": [
    "<h2> 4. K-Nearest Neighbour"
   ]
  },
  {
   "cell_type": "code",
   "execution_count": 11,
   "id": "1483122d",
   "metadata": {},
   "outputs": [
    {
     "name": "stdout",
     "output_type": "stream",
     "text": [
      "confussion matrix\n",
      "[[85 13]\n",
      " [10 97]]\n",
      "\n",
      "\n",
      "              precision    recall  f1-score   support\n",
      "\n",
      "           0       0.89      0.87      0.88        98\n",
      "           1       0.88      0.91      0.89       107\n",
      "\n",
      "    accuracy                           0.89       205\n",
      "   macro avg       0.89      0.89      0.89       205\n",
      "weighted avg       0.89      0.89      0.89       205\n",
      "\n"
     ]
    }
   ],
   "source": [
    "m4 = 'K-NeighborsClassifier'\n",
    "knn = KNeighborsClassifier(n_neighbors=10)\n",
    "knn.fit(X_train, y_train)\n",
    "knn_predicted = knn.predict(X_test)\n",
    "knn_conf_matrix = confusion_matrix(y_test, knn_predicted)\n",
    "knn_acc_score = accuracy_score(y_test, knn_predicted)\n",
    "print(\"confussion matrix\")\n",
    "print(knn_conf_matrix)\n",
    "print(\"\\n\")\n",
    "print(classification_report(y_test,knn_predicted))"
   ]
  },
  {
   "cell_type": "code",
   "execution_count": 12,
   "id": "868df2bb",
   "metadata": {},
   "outputs": [
    {
     "name": "stdout",
     "output_type": "stream",
     "text": [
      "K-Nearest Neighbour Accuracy: 88.78048780487805 \n",
      "\n"
     ]
    }
   ],
   "source": [
    "print(\"K-Nearest Neighbour Accuracy:\",knn_acc_score*100,'\\n')"
   ]
  },
  {
   "cell_type": "markdown",
   "id": "6023bad0",
   "metadata": {},
   "source": [
    "<h2> 5. Decision Tree"
   ]
  },
  {
   "cell_type": "code",
   "execution_count": 13,
   "id": "ffe02f71",
   "metadata": {},
   "outputs": [
    {
     "name": "stdout",
     "output_type": "stream",
     "text": [
      "confussion matrix\n",
      "[[ 94   4]\n",
      " [  7 100]]\n",
      "\n",
      "\n",
      "              precision    recall  f1-score   support\n",
      "\n",
      "           0       0.93      0.96      0.94        98\n",
      "           1       0.96      0.93      0.95       107\n",
      "\n",
      "    accuracy                           0.95       205\n",
      "   macro avg       0.95      0.95      0.95       205\n",
      "weighted avg       0.95      0.95      0.95       205\n",
      "\n"
     ]
    }
   ],
   "source": [
    "m5 = 'DecisionTreeClassifier'\n",
    "dt = DecisionTreeClassifier(criterion = 'entropy',random_state=0,max_depth = 6)\n",
    "dt.fit(X_train, y_train)\n",
    "dt_predicted = dt.predict(X_test)\n",
    "dt_conf_matrix = confusion_matrix(y_test, dt_predicted)\n",
    "dt_acc_score = accuracy_score(y_test, dt_predicted)\n",
    "print(\"confussion matrix\")\n",
    "print(dt_conf_matrix)\n",
    "print(\"\\n\")\n",
    "print(classification_report(y_test,dt_predicted))"
   ]
  },
  {
   "cell_type": "code",
   "execution_count": 14,
   "id": "3ea7c0cb",
   "metadata": {},
   "outputs": [
    {
     "name": "stdout",
     "output_type": "stream",
     "text": [
      "Decision Tree Accuracy : 94.6341463414634 \n",
      "\n"
     ]
    }
   ],
   "source": [
    "print(\"Decision Tree Accuracy :\",dt_acc_score*100,'\\n')"
   ]
  },
  {
   "cell_type": "markdown",
   "id": "565cb1bc",
   "metadata": {},
   "source": [
    "<h2> 6. Support Vector Machine"
   ]
  },
  {
   "cell_type": "code",
   "execution_count": 15,
   "id": "bb31690b",
   "metadata": {},
   "outputs": [
    {
     "name": "stdout",
     "output_type": "stream",
     "text": [
      "confussion matrix\n",
      "[[ 94   4]\n",
      " [  1 106]]\n",
      "\n",
      "\n",
      "              precision    recall  f1-score   support\n",
      "\n",
      "           0       0.99      0.96      0.97        98\n",
      "           1       0.96      0.99      0.98       107\n",
      "\n",
      "    accuracy                           0.98       205\n",
      "   macro avg       0.98      0.97      0.98       205\n",
      "weighted avg       0.98      0.98      0.98       205\n",
      "\n"
     ]
    }
   ],
   "source": [
    "m6 = 'Support Vector Classifier'\n",
    "svc =  SVC(kernel='rbf', C=2)\n",
    "svc.fit(X_train, y_train)\n",
    "svc_predicted = svc.predict(X_test)\n",
    "svc_conf_matrix = confusion_matrix(y_test, svc_predicted)\n",
    "svc_acc_score = accuracy_score(y_test, svc_predicted)\n",
    "print(\"confussion matrix\")\n",
    "print(svc_conf_matrix)\n",
    "print(\"\\n\")\n",
    "print(classification_report(y_test,svc_predicted))"
   ]
  },
  {
   "cell_type": "code",
   "execution_count": 16,
   "id": "2e6d101c",
   "metadata": {},
   "outputs": [
    {
     "name": "stdout",
     "output_type": "stream",
     "text": [
      "Support Vector Machine Accuracy: 97.5609756097561 \n",
      "\n"
     ]
    }
   ],
   "source": [
    "print(\"Support Vector Machine Accuracy:\",svc_acc_score*100,'\\n')"
   ]
  },
  {
   "cell_type": "markdown",
   "id": "9ec5db54",
   "metadata": {},
   "source": [
    "<h2> 7. Extreme Gradient Boost"
   ]
  },
  {
   "cell_type": "code",
   "execution_count": 17,
   "id": "54db1000",
   "metadata": {},
   "outputs": [
    {
     "name": "stdout",
     "output_type": "stream",
     "text": [
      "confussion matrix\n",
      "[[ 89   9]\n",
      " [  6 101]]\n",
      "\n",
      "\n",
      "              precision    recall  f1-score   support\n",
      "\n",
      "           0       0.94      0.91      0.92        98\n",
      "           1       0.92      0.94      0.93       107\n",
      "\n",
      "    accuracy                           0.93       205\n",
      "   macro avg       0.93      0.93      0.93       205\n",
      "weighted avg       0.93      0.93      0.93       205\n",
      "\n"
     ]
    }
   ],
   "source": [
    "m7 = 'Extreme Gradient Boost'\n",
    "xgb = XGBClassifier(learning_rate=0.01, n_estimators=25, max_depth=15,gamma=0.6, subsample=0.52,colsample_bytree=0.6,seed=27, \n",
    "                    reg_lambda=2, booster='dart', colsample_bylevel=0.6, colsample_bynode=0.5)\n",
    "xgb.fit(X_train, y_train)\n",
    "xgb_predicted = xgb.predict(X_test)\n",
    "xgb_conf_matrix = confusion_matrix(y_test, xgb_predicted)\n",
    "xgb_acc_score = accuracy_score(y_test, xgb_predicted)\n",
    "print(\"confussion matrix\")\n",
    "print(xgb_conf_matrix)\n",
    "print(\"\\n\")\n",
    "print(classification_report(y_test,xgb_predicted))"
   ]
  },
  {
   "cell_type": "code",
   "execution_count": 20,
   "id": "10cf3aa2",
   "metadata": {},
   "outputs": [
    {
     "name": "stdout",
     "output_type": "stream",
     "text": [
      "Extreme Gradient Boost Accuracy: 92.6829268292683 \n",
      "\n"
     ]
    }
   ],
   "source": [
    "print(\"Extreme Gradient Boost Accuracy:\",xgb_acc_score*100,'\\n')"
   ]
  },
  {
   "cell_type": "markdown",
   "id": "dcf579a6",
   "metadata": {},
   "source": [
    "<h2>  Summary"
   ]
  },
  {
   "cell_type": "code",
   "execution_count": 19,
   "id": "7e89a088",
   "metadata": {},
   "outputs": [
    {
     "data": {
      "text/html": [
       "<div>\n",
       "<style scoped>\n",
       "    .dataframe tbody tr th:only-of-type {\n",
       "        vertical-align: middle;\n",
       "    }\n",
       "\n",
       "    .dataframe tbody tr th {\n",
       "        vertical-align: top;\n",
       "    }\n",
       "\n",
       "    .dataframe thead th {\n",
       "        text-align: right;\n",
       "    }\n",
       "</style>\n",
       "<table border=\"1\" class=\"dataframe\">\n",
       "  <thead>\n",
       "    <tr style=\"text-align: right;\">\n",
       "      <th></th>\n",
       "      <th>Model</th>\n",
       "      <th>Accuracy</th>\n",
       "    </tr>\n",
       "  </thead>\n",
       "  <tbody>\n",
       "    <tr>\n",
       "      <th>0</th>\n",
       "      <td>Logistic Regression</td>\n",
       "      <td>86.341463</td>\n",
       "    </tr>\n",
       "    <tr>\n",
       "      <th>1</th>\n",
       "      <td>Naive Bayes</td>\n",
       "      <td>85.365854</td>\n",
       "    </tr>\n",
       "    <tr>\n",
       "      <th>2</th>\n",
       "      <td>Random Forest</td>\n",
       "      <td>94.146341</td>\n",
       "    </tr>\n",
       "    <tr>\n",
       "      <th>3</th>\n",
       "      <td>K-Nearest Neighbour</td>\n",
       "      <td>88.780488</td>\n",
       "    </tr>\n",
       "    <tr>\n",
       "      <th>4</th>\n",
       "      <td>Decision Tree</td>\n",
       "      <td>94.634146</td>\n",
       "    </tr>\n",
       "    <tr>\n",
       "      <th>5</th>\n",
       "      <td>Support Vector Machine</td>\n",
       "      <td>97.560976</td>\n",
       "    </tr>\n",
       "    <tr>\n",
       "      <th>6</th>\n",
       "      <td>Extreme Gradient Boost</td>\n",
       "      <td>92.682927</td>\n",
       "    </tr>\n",
       "  </tbody>\n",
       "</table>\n",
       "</div>"
      ],
      "text/plain": [
       "                    Model   Accuracy\n",
       "0     Logistic Regression  86.341463\n",
       "1             Naive Bayes  85.365854\n",
       "2           Random Forest  94.146341\n",
       "3     K-Nearest Neighbour  88.780488\n",
       "4           Decision Tree  94.634146\n",
       "5  Support Vector Machine  97.560976\n",
       "6  Extreme Gradient Boost  92.682927"
      ]
     },
     "execution_count": 19,
     "metadata": {},
     "output_type": "execute_result"
    }
   ],
   "source": [
    "model_evaluation = pd.DataFrame({'Model': ['Logistic Regression','Naive Bayes','Random Forest',\n",
    "                    'K-Nearest Neighbour','Decision Tree','Support Vector Machine','Extreme Gradient Boost'], 'Accuracy': [lr_acc_score*100,\n",
    "                    nb_acc_score*100,rf_acc_score*100,knn_acc_score*100,dt_acc_score*100,svc_acc_score*100,xgb_acc_score*100]})\n",
    "model_evaluation"
   ]
  },
  {
   "cell_type": "markdown",
   "id": "f8786433",
   "metadata": {},
   "source": [
    "<h2> Conclusion </h2>\n",
    "\n",
    "<h3> Support Vector Machine gives the most accuracy at 97.6% (approx.)"
   ]
  }
 ],
 "metadata": {
  "kernelspec": {
   "display_name": "Python 3",
   "language": "python",
   "name": "python3"
  },
  "language_info": {
   "codemirror_mode": {
    "name": "ipython",
    "version": 3
   },
   "file_extension": ".py",
   "mimetype": "text/x-python",
   "name": "python",
   "nbconvert_exporter": "python",
   "pygments_lexer": "ipython3",
   "version": "3.8.8"
  }
 },
 "nbformat": 4,
 "nbformat_minor": 5
}
